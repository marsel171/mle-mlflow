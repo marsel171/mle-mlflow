{
 "cells": [
  {
   "cell_type": "code",
   "execution_count": 1,
   "metadata": {},
   "outputs": [
    {
     "name": "stderr",
     "output_type": "stream",
     "text": [
      "/home/mle-user/mle_projects/.venv/lib/python3.10/site-packages/pydantic/_internal/_fields.py:149: UserWarning: Field \"model_server_url\" has conflict with protected namespace \"model_\".\n",
      "\n",
      "You may be able to resolve this warning by setting `model_config['protected_namespaces'] = ()`.\n",
      "  warnings.warn(\n",
      "/home/mle-user/mle_projects/.venv/lib/python3.10/site-packages/pydantic/_internal/_config.py:321: UserWarning: Valid config keys have changed in V2:\n",
      "* 'schema_extra' has been renamed to 'json_schema_extra'\n",
      "  warnings.warn(message, UserWarning)\n"
     ]
    },
    {
     "name": "stdout",
     "output_type": "stream",
     "text": [
      "Run id запуска: ac2430aaa668415a8b07dc2adb85cdf3\n"
     ]
    }
   ],
   "source": [
    "# делаем import необходимых библиотек\n",
    "import os\n",
    "\n",
    "import mlflow\n",
    "\n",
    "# устанавливаем локальное хранилище для наших экспериментов\n",
    "# хранилище должно быть такое же, как и при запуске сервиса\n",
    "\n",
    "# mlflow.set_tracking_uri('file:./mlflow_experiments_store')\n",
    "mlflow.set_tracking_uri('http://0.0.0.0:5000')\n",
    "\n",
    "# получаем id эксеримента, который создаётся по умолчанию\n",
    "# эксперимент по умолчанию называется Default\n",
    "experiment_id = mlflow.get_experiment_by_name(\"Default\").experiment_id\n",
    "\n",
    "# залогируем тестовую метрику и артефакт\n",
    "with mlflow.start_run(run_name='Default', experiment_id=experiment_id) as run:\n",
    "    run_id = run.info.run_id\n",
    "\n",
    "    # mlflow.log_metric(\"test_metric\", 0)\n",
    "    # mlflow.log_artifact(\"test_artifact.txt\", \"test_artifact\")\n",
    "    \n",
    "    mlflow.log_metric(\"test_metric_sqlite\", 0)\n",
    "    mlflow.log_artifact(\"test_artifact.txt\", \"test_artifact_sqlite\")\n",
    "\n",
    "print(f\"Run id запуска: {run_id}\")"
   ]
  },
  {
   "cell_type": "code",
   "execution_count": 5,
   "metadata": {},
   "outputs": [
    {
     "name": "stdout",
     "output_type": "stream",
     "text": [
      "ls: cannot access 'mlflow_experiments_store_sqlite/0/ac2430aaa668415a8b07dc2adb85cdf3/metrics': No such file or directory\n"
     ]
    }
   ],
   "source": [
    "# Проверьте, что в вашем хранилище артефактов залогировалась тестовая метрика и сам артефакт. Для этого в ячейке ноутбука запустите следующие команды:\n",
    "\n",
    "# !ls mlflow_experiments_store/0/{run_id}/metrics\n",
    "!ls mlflow_experiments_store_sqlite/0/{run_id}/metrics"
   ]
  },
  {
   "cell_type": "code",
   "execution_count": 7,
   "metadata": {},
   "outputs": [],
   "source": [
    "# !cat mlflow_experiments_store/0/{run_id}/artifacts/test_artifact/test_artifact.txt\n",
    "!cat mlflow_experiments_store_sqlite/0/{run_id}/artifacts/test_artifact_sqlite/test_artifact.txt"
   ]
  },
  {
   "cell_type": "code",
   "execution_count": null,
   "metadata": {},
   "outputs": [],
   "source": [
    "# Аналогичное упражнение вы можете проделать и для локального запуска с базой данных SQLite. \n",
    "# Пусть она называется mydb.sqlite, а директорию для хранения поменяйте с mlflow_experiments_store на mlflow_experiments_store_sqlite.\n",
    "# Такую команду необходимо использовать для запуска MLflow Tracking Server с базой данных SQLite\n",
    "# Именно так вы установите хранилище при запуске!\n",
    "!mlflow server --backend-store-uri sqlite:///mydb.sqlite --default-artifact-root file:./mlflow_experiments_store_sqlite"
   ]
  },
  {
   "cell_type": "code",
   "execution_count": 4,
   "metadata": {},
   "outputs": [],
   "source": [
    "# assert os.path.exists(\"mlflow_experiments_store_sqlite\")\n",
    "# проверим, что наши данные сохранились в локальной папке, а также создалась база данных SQLite\n",
    "assert os.path.exists(\"mlflow_experiments_store_sqlite\")\n",
    "assert os.path.exists(\"mydb.sqlite\") "
   ]
  },
  {
   "cell_type": "code",
   "execution_count": null,
   "metadata": {},
   "outputs": [],
   "source": []
  }
 ],
 "metadata": {
  "kernelspec": {
   "display_name": ".venv",
   "language": "python",
   "name": "python3"
  },
  "language_info": {
   "codemirror_mode": {
    "name": "ipython",
    "version": 3
   },
   "file_extension": ".py",
   "mimetype": "text/x-python",
   "name": "python",
   "nbconvert_exporter": "python",
   "pygments_lexer": "ipython3",
   "version": "3.10.12"
  }
 },
 "nbformat": 4,
 "nbformat_minor": 2
}
