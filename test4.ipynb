{
 "cells": [
  {
   "cell_type": "code",
   "execution_count": null,
   "metadata": {},
   "outputs": [],
   "source": [
    "from sklearn.metrics import precision_score, recall_score, f1_score, log_loss, roc_auc_score, confusion_matrix\n",
    "# импортируйте необходимые вам модули\n",
    "\n",
    "# заведите словарь со всеми метриками\n",
    "metrics = {}\n",
    "\n",
    "# посчитайте метрики из модуля sklearn.metrics\n",
    "# err_1 — ошибка первого рода\n",
    "# err_2 — ошибка второго рода\n",
    "_, err1, _, err2 = confusion_matrix(y_test, prediction, normalize='all').ravel() # ваш код здесь #\n",
    "auc = roc_auc_score(y_test, probas)# ваш код здесь #\n",
    "precision = precision_score(y_test, prediction)# ваш код здесь #\n",
    "recall = recall_score(y_test, prediction)# ваш код здесь #\n",
    "f1 = f1_score(y_test, prediction)# ваш код здесь #\n",
    "logloss = log_loss(y_test, prediction)# ваш код здесь #\n",
    "\n",
    "# запишите значения метрик в словарь\n",
    "metrics[\"err1\"] = err1\n",
    "metrics[\"err2\"] = err2\n",
    "metrics[\"auc\"] = auc\n",
    "metrics[\"precision\"] = precision\n",
    "metrics[\"recall\"] = recall\n",
    "metrics[\"f1\"] = f1\n",
    "metrics[\"logloss\"] = logloss"
   ]
  },
  {
   "cell_type": "code",
   "execution_count": null,
   "metadata": {},
   "outputs": [],
   "source": [
    "\n",
    "import pandas as pd\n",
    "import numpy as np\n",
    "import mlflow\n",
    "import os\n",
    "from dotenv import load_dotenv\n",
    "\n",
    "load_dotenv()\n",
    "\n",
    "EXPERIMENT_NAME = \"churn_marselkamilov\"# ваш код здесь (напишите своё уникальное имя эксперимента)\n",
    "RUN_NAME = \"model_0_registry\"\n",
    "REGISTRY_MODEL_NAME = \"churn_model_marselkamilov\"\n",
    "\n",
    "os.environ[\"MLFLOW_S3_ENDPOINT_URL\"] = \"https://storage.yandexcloud.net\" #endpoint бакета от YandexCloud\n",
    "os.environ[\"AWS_ACCESS_KEY_ID\"] = os.getenv(\"AWS_ACCESS_KEY_ID\") # получаем id ключа бакета, к которому подключён MLFlow, из .env\n",
    "os.environ[\"AWS_SECRET_ACCESS_KEY\"] = os.getenv(\"AWS_SECRET_ACCESS_KEY\") # получаем ключ бакета, к которому подключён MLFlow, из .env\n",
    "\n",
    "# ваш код здесь\n",
    "TRACKING_SERVER_HOST = \"127.0.0.1\"\n",
    "TRACKING_SERVER_PORT = 5000\n",
    "\n",
    "mlflow.set_tracking_uri(f\"http://{TRACKING_SERVER_HOST}:{TRACKING_SERVER_PORT}\")\n",
    "mlflow.set_registry_uri(f\"http://{TRACKING_SERVER_HOST}:{TRACKING_SERVER_PORT}\") \n",
    "\n",
    "pip_requirements = '../requirements.txt' # ваш код здесь\n",
    "signature = mlflow.models.infer_signature(X_test, prediction) # ваш код здесь\n",
    "input_example = X_test[:10] # ваш код здесь\n",
    "metadata = {'model_type': 'monthly'} # ваш код здесь\n",
    "\n",
    "\n",
    "experiment_id = mlflow.get_experiment_by_name(EXPERIMENT_NAME).experiment_id\n",
    "\n",
    "with mlflow.start_run(run_name=RUN_NAME, experiment_id=experiment_id) as run:\n",
    "    run_id = run.info.run_id\n",
    "\n",
    "    model_info = mlflow.catboost.log_model(cb_model=model,\n",
    "        artifact_path=\"models\",\n",
    "        signature=signature,\n",
    "        metadata=metadata,\n",
    "        input_example=input_example,\n",
    "        registered_model_name=REGISTRY_MODEL_NAME,\n",
    "        pip_requirements=pip_requirements,\n",
    "        await_registration_for=60\n",
    "\t\t)"
   ]
  },
  {
   "cell_type": "code",
   "execution_count": null,
   "metadata": {},
   "outputs": [],
   "source": [
    "loaded_model = mlflow.catboost.load_model(model_uri=model_info.model_uri) \n",
    "model_predictions = loaded_model.predict(X_test)\n",
    "\n",
    "assert model_predictions.dtype == int\n",
    "\n",
    "print(model_predictions[:10])"
   ]
  }
 ],
 "metadata": {
  "kernelspec": {
   "display_name": ".venv",
   "language": "python",
   "name": "python3"
  },
  "language_info": {
   "codemirror_mode": {
    "name": "ipython",
    "version": 3
   },
   "file_extension": ".py",
   "mimetype": "text/x-python",
   "name": "python",
   "nbconvert_exporter": "python",
   "pygments_lexer": "ipython3",
   "version": "3.10.12"
  }
 },
 "nbformat": 4,
 "nbformat_minor": 2
}
